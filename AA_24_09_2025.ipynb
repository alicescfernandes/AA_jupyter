{
  "nbformat": 4,
  "nbformat_minor": 0,
  "metadata": {
    "colab": {
      "provenance": [],
      "authorship_tag": "ABX9TyNJ/Z9IqTfVIZmvHLPWEgZd"
    },
    "kernelspec": {
      "name": "python3",
      "display_name": "Python 3"
    },
    "language_info": {
      "name": "python"
    }
  },
  "cells": [
    {
      "cell_type": "code",
      "execution_count": null,
      "metadata": {
        "id": "OWT_QpYHPI0i",
        "colab": {
          "base_uri": "https://localhost:8080/"
        },
        "outputId": "2b21f52b-cd91-4563-b3d7-8de4e5f59e6d"
      },
      "outputs": [
        {
          "output_type": "stream",
          "name": "stdout",
          "text": [
            "1.6.1\n"
          ]
        }
      ],
      "source": [
        "# Lab date: 24/09/2025\n",
        "import numpy as np\n",
        "import sklearn\n",
        "import matplotlib.pyplot as plt\n",
        "import sklearn.datasets as dt\n",
        "import numpy.random as rd\n",
        "from sklearn.metrics import confusion_matrix, classification_report, ConfusionMatrixDisplay, roc_curve, precision_recall_curve, auc\n",
        "import pandas as pd\n",
        "from sklearn.linear_model import LogisticRegression\n",
        "from sklearn.model_selection import cross_val_score, cross_val_predict,train_test_split\n",
        "\n",
        "\n",
        "print(sklearn.__version__)\n"
      ]
    },
    {
      "cell_type": "code",
      "source": [
        "D=dt.load_breast_cancer()\n",
        "print(D.DESCR) # descrição do dataset"
      ],
      "metadata": {
        "colab": {
          "base_uri": "https://localhost:8080/"
        },
        "collapsed": true,
        "id": "G_33hpkcOIAH",
        "outputId": "bca3650b-f40c-4513-b3e3-458f4dba1aa4"
      },
      "execution_count": null,
      "outputs": [
        {
          "output_type": "stream",
          "name": "stdout",
          "text": [
            ".. _breast_cancer_dataset:\n",
            "\n",
            "Breast cancer wisconsin (diagnostic) dataset\n",
            "--------------------------------------------\n",
            "\n",
            "**Data Set Characteristics:**\n",
            "\n",
            ":Number of Instances: 569\n",
            "\n",
            ":Number of Attributes: 30 numeric, predictive attributes and the class\n",
            "\n",
            ":Attribute Information:\n",
            "    - radius (mean of distances from center to points on the perimeter)\n",
            "    - texture (standard deviation of gray-scale values)\n",
            "    - perimeter\n",
            "    - area\n",
            "    - smoothness (local variation in radius lengths)\n",
            "    - compactness (perimeter^2 / area - 1.0)\n",
            "    - concavity (severity of concave portions of the contour)\n",
            "    - concave points (number of concave portions of the contour)\n",
            "    - symmetry\n",
            "    - fractal dimension (\"coastline approximation\" - 1)\n",
            "\n",
            "    The mean, standard error, and \"worst\" or largest (mean of the three\n",
            "    worst/largest values) of these features were computed for each image,\n",
            "    resulting in 30 features.  For instance, field 0 is Mean Radius, field\n",
            "    10 is Radius SE, field 20 is Worst Radius.\n",
            "\n",
            "    - class:\n",
            "            - WDBC-Malignant\n",
            "            - WDBC-Benign\n",
            "\n",
            ":Summary Statistics:\n",
            "\n",
            "===================================== ====== ======\n",
            "                                        Min    Max\n",
            "===================================== ====== ======\n",
            "radius (mean):                        6.981  28.11\n",
            "texture (mean):                       9.71   39.28\n",
            "perimeter (mean):                     43.79  188.5\n",
            "area (mean):                          143.5  2501.0\n",
            "smoothness (mean):                    0.053  0.163\n",
            "compactness (mean):                   0.019  0.345\n",
            "concavity (mean):                     0.0    0.427\n",
            "concave points (mean):                0.0    0.201\n",
            "symmetry (mean):                      0.106  0.304\n",
            "fractal dimension (mean):             0.05   0.097\n",
            "radius (standard error):              0.112  2.873\n",
            "texture (standard error):             0.36   4.885\n",
            "perimeter (standard error):           0.757  21.98\n",
            "area (standard error):                6.802  542.2\n",
            "smoothness (standard error):          0.002  0.031\n",
            "compactness (standard error):         0.002  0.135\n",
            "concavity (standard error):           0.0    0.396\n",
            "concave points (standard error):      0.0    0.053\n",
            "symmetry (standard error):            0.008  0.079\n",
            "fractal dimension (standard error):   0.001  0.03\n",
            "radius (worst):                       7.93   36.04\n",
            "texture (worst):                      12.02  49.54\n",
            "perimeter (worst):                    50.41  251.2\n",
            "area (worst):                         185.2  4254.0\n",
            "smoothness (worst):                   0.071  0.223\n",
            "compactness (worst):                  0.027  1.058\n",
            "concavity (worst):                    0.0    1.252\n",
            "concave points (worst):               0.0    0.291\n",
            "symmetry (worst):                     0.156  0.664\n",
            "fractal dimension (worst):            0.055  0.208\n",
            "===================================== ====== ======\n",
            "\n",
            ":Missing Attribute Values: None\n",
            "\n",
            ":Class Distribution: 212 - Malignant, 357 - Benign\n",
            "\n",
            ":Creator:  Dr. William H. Wolberg, W. Nick Street, Olvi L. Mangasarian\n",
            "\n",
            ":Donor: Nick Street\n",
            "\n",
            ":Date: November, 1995\n",
            "\n",
            "This is a copy of UCI ML Breast Cancer Wisconsin (Diagnostic) datasets.\n",
            "https://goo.gl/U2Uwz2\n",
            "\n",
            "Features are computed from a digitized image of a fine needle\n",
            "aspirate (FNA) of a breast mass.  They describe\n",
            "characteristics of the cell nuclei present in the image.\n",
            "\n",
            "Separating plane described above was obtained using\n",
            "Multisurface Method-Tree (MSM-T) [K. P. Bennett, \"Decision Tree\n",
            "Construction Via Linear Programming.\" Proceedings of the 4th\n",
            "Midwest Artificial Intelligence and Cognitive Science Society,\n",
            "pp. 97-101, 1992], a classification method which uses linear\n",
            "programming to construct a decision tree.  Relevant features\n",
            "were selected using an exhaustive search in the space of 1-4\n",
            "features and 1-3 separating planes.\n",
            "\n",
            "The actual linear program used to obtain the separating plane\n",
            "in the 3-dimensional space is that described in:\n",
            "[K. P. Bennett and O. L. Mangasarian: \"Robust Linear\n",
            "Programming Discrimination of Two Linearly Inseparable Sets\",\n",
            "Optimization Methods and Software 1, 1992, 23-34].\n",
            "\n",
            "This database is also available through the UW CS ftp server:\n",
            "\n",
            "ftp ftp.cs.wisc.edu\n",
            "cd math-prog/cpo-dataset/machine-learn/WDBC/\n",
            "\n",
            ".. dropdown:: References\n",
            "\n",
            "  - W.N. Street, W.H. Wolberg and O.L. Mangasarian. Nuclear feature extraction\n",
            "    for breast tumor diagnosis. IS&T/SPIE 1993 International Symposium on\n",
            "    Electronic Imaging: Science and Technology, volume 1905, pages 861-870,\n",
            "    San Jose, CA, 1993.\n",
            "  - O.L. Mangasarian, W.N. Street and W.H. Wolberg. Breast cancer diagnosis and\n",
            "    prognosis via linear programming. Operations Research, 43(4), pages 570-577,\n",
            "    July-August 1995.\n",
            "  - W.H. Wolberg, W.N. Street, and O.L. Mangasarian. Machine learning techniques\n",
            "    to diagnose breast cancer from fine-needle aspirates. Cancer Letters 77 (1994)\n",
            "    163-171.\n",
            "\n"
          ]
        }
      ]
    },
    {
      "cell_type": "code",
      "source": [
        "X=D.data # dados do dataset\n",
        "y=D.target # classes\n",
        "\n",
        "print(X.shape) # (Linhas, Colunas) ou (Numero de dados, parametros por dado)\n",
        "print(y.shape) # 0 -> malignos, 1 -> benignos (negativo / positivo)\n",
        "print(np.sum(y==0)) # 212 dados malignos\n",
        "print(np.sum(y==1))"
      ],
      "metadata": {
        "colab": {
          "base_uri": "https://localhost:8080/"
        },
        "collapsed": true,
        "id": "GmJ0fWSyPDGp",
        "outputId": "848f453d-ff5f-419a-b43b-392f8f853f43"
      },
      "execution_count": null,
      "outputs": [
        {
          "output_type": "stream",
          "name": "stdout",
          "text": [
            "(569, 30)\n",
            "(569,)\n",
            "212\n",
            "357\n"
          ]
        }
      ]
    },
    {
      "cell_type": "code",
      "source": [
        "# Inverter as classes (0 passa para 1, 1 passa para 0)\n",
        "y=1-y # 1 -> passa a ser maligno\n",
        "\n",
        "\n",
        "X1,X2,y1,y2 = train_test_split(X,y,test_size=1/3,random_state=42, stratify=y)  # stratify -> manter a mesma % de positivos e negativos do que o conjunto de teste\n",
        "# x1 -> dados de treino, x2-> dados de teste\n",
        "\n",
        "print(X1.shape)\n",
        "print(X2.shape)"
      ],
      "metadata": {
        "colab": {
          "base_uri": "https://localhost:8080/"
        },
        "id": "dxeKEjyYQVXI",
        "outputId": "97c17876-00bd-4f3d-c7b9-03a6911c501c"
      },
      "execution_count": null,
      "outputs": [
        {
          "output_type": "stream",
          "name": "stdout",
          "text": [
            "(379, 30)\n",
            "(190, 30)\n"
          ]
        }
      ]
    },
    {
      "cell_type": "code",
      "source": [
        "lr = LogisticRegression(max_iter=5000, random_state=42).fit(X1,y1) # treinar com conjunto de treino\n",
        "\n",
        "y2e = lr.predict(X2)\n",
        "\n",
        "print(confusion_matrix(y2,y2e))\n",
        "print(classification_report(y2,y2e))"
      ],
      "metadata": {
        "colab": {
          "base_uri": "https://localhost:8080/"
        },
        "id": "NUT67QYoTGqv",
        "outputId": "8ac5eee9-d5b5-4fd7-be91-5f9a14a882b6"
      },
      "execution_count": null,
      "outputs": [
        {
          "output_type": "stream",
          "name": "stdout",
          "text": [
            "[[118   1]\n",
            " [ 10  61]]\n",
            "              precision    recall  f1-score   support\n",
            "\n",
            "           0       0.92      0.99      0.96       119\n",
            "           1       0.98      0.86      0.92        71\n",
            "\n",
            "    accuracy                           0.94       190\n",
            "   macro avg       0.95      0.93      0.94       190\n",
            "weighted avg       0.95      0.94      0.94       190\n",
            "\n"
          ]
        }
      ]
    },
    {
      "cell_type": "code",
      "source": [
        "w=lr.coef_\n",
        "w=w.squeeze() # remover dimensão extra (1,30) -> (30,) / w1, wd -> parametros das funções de classificação\n",
        "print(w.shape)\n",
        "print(lr.intercept_) #w0\n",
        "\n",
        "plt.plot(w, '*')\n",
        "plt.show()"
      ],
      "metadata": {
        "colab": {
          "base_uri": "https://localhost:8080/",
          "height": 465
        },
        "collapsed": true,
        "id": "v0IvP0yPUrAQ",
        "outputId": "719fa7a3-ee4c-4e8f-fac3-12a667d5ed72"
      },
      "execution_count": null,
      "outputs": [
        {
          "output_type": "stream",
          "name": "stdout",
          "text": [
            "(30,)\n",
            "[-26.46494388]\n"
          ]
        },
        {
          "output_type": "display_data",
          "data": {
            "text/plain": [
              "<Figure size 640x480 with 1 Axes>"
            ],
            "image/png": "[encoded data removed]"
          },
          "metadata": {}
        }
      ]
    },
    {
      "cell_type": "code",
      "source": [
        "ConfusionMatrixDisplay.from_estimator(lr,X2,y2)\n",
        "plt.show()"
      ],
      "metadata": {
        "colab": {
          "base_uri": "https://localhost:8080/",
          "height": 449
        },
        "collapsed": true,
        "id": "aGhUTkwcUORf",
        "outputId": "367691b1-5d38-4ae7-aa4e-0fbc032d6e6f"
      },
      "execution_count": null,
      "outputs": [
        {
          "output_type": "display_data",
          "data": {
            "text/plain": [
              "<Figure size 640x480 with 2 Axes>"
            ],
            "image/png": "[encoded data removed]"
          },
          "metadata": {}
        }
      ]
    },
    {
      "cell_type": "code",
      "source": [
        "y2dc = lr.decision_function(X2) # dados de teste (limiar para -2)\n",
        "print(confusion_matrix(y2,y2dc>-2)) # > 0 - limiar de corte para a classificação\n",
        "print(classification_report(y2,y2dc>-2))\n",
        "y2dc = lr.decision_function(X2) # dados de teste\n",
        "print(confusion_matrix(y2,y2dc>0)) # > 0 - limiar de corte para a classificação\n",
        "print(classification_report(y2,y2dc>0))\n",
        "\n",
        "fp, tp, _ = roc_curve(y2,y2dc) # roc_curve tem de levar o valor discreto, e depois um valor continuo da previsão. fp = false positive, tp = true positive\n",
        "\n",
        "plt.plot(fp,tp)\n",
        "plt.plot(6/(113+6), 70 / 71,'or',alpha=0.3)\n",
        "\n",
        "plt.axis([0,1,0,1])\n",
        "plt.axis('scaled')\n",
        "plt.grid(True)\n",
        "plt.show()\n",
        "\n"
      ],
      "metadata": {
        "colab": {
          "base_uri": "https://localhost:8080/",
          "height": 812
        },
        "collapsed": true,
        "id": "4lbOmNSaVorL",
        "outputId": "e75ab425-c6a2-4e4b-8d8b-8eb651f129b4"
      },
      "execution_count": null,
      "outputs": [
        {
          "output_type": "stream",
          "name": "stdout",
          "text": [
            "[[113   6]\n",
            " [  1  70]]\n",
            "              precision    recall  f1-score   support\n",
            "\n",
            "           0       0.99      0.95      0.97       119\n",
            "           1       0.92      0.99      0.95        71\n",
            "\n",
            "    accuracy                           0.96       190\n",
            "   macro avg       0.96      0.97      0.96       190\n",
            "weighted avg       0.97      0.96      0.96       190\n",
            "\n",
            "[[118   1]\n",
            " [ 10  61]]\n",
            "              precision    recall  f1-score   support\n",
            "\n",
            "           0       0.92      0.99      0.96       119\n",
            "           1       0.98      0.86      0.92        71\n",
            "\n",
            "    accuracy                           0.94       190\n",
            "   macro avg       0.95      0.93      0.94       190\n",
            "weighted avg       0.95      0.94      0.94       190\n",
            "\n"
          ]
        },
        {
          "output_type": "display_data",
          "data": {
            "text/plain": [
              "<Figure size 640x480 with 1 Axes>"
            ],
            "image/png": "[encoded data removed]"
          },
          "metadata": {}
        }
      ]
    },
    {
      "cell_type": "code",
      "source": [
        "y2dc = lr.decision_function(X2) # dados de teste. classificador original (limiar original)\n",
        "\n",
        "print(confusion_matrix(y2,y2dc>0)) # > 0 - limiar de corte para a classificação\n",
        "print(classification_report(y2,y2dc>0))\n",
        "\n",
        "fp, tp, _ = roc_curve(y2,y2dc) # roc_curve tem de levar o valor discreto, e depois um valor continuo da previsão. fp = false positive, tp = true positive\n",
        "\n",
        "plt.plot(fp,tp)\n",
        "plt.plot(1/(113+6), 61 / 71,'or',alpha=0.3)\n",
        "\n",
        "plt.axis([0,1,0,1])\n",
        "plt.axis('scaled')\n",
        "plt.grid(True)\n",
        "plt.show()\n"
      ],
      "metadata": {
        "colab": {
          "base_uri": "https://localhost:8080/",
          "height": 621
        },
        "id": "L-_lUCK2ZBWi",
        "outputId": "0330bb56-69b9-4877-d848-4ab59e1c04dd"
      },
      "execution_count": null,
      "outputs": [
        {
          "output_type": "stream",
          "name": "stdout",
          "text": [
            "[[118   1]\n",
            " [ 10  61]]\n",
            "              precision    recall  f1-score   support\n",
            "\n",
            "           0       0.92      0.99      0.96       119\n",
            "           1       0.98      0.86      0.92        71\n",
            "\n",
            "    accuracy                           0.94       190\n",
            "   macro avg       0.95      0.93      0.94       190\n",
            "weighted avg       0.95      0.94      0.94       190\n",
            "\n"
          ]
        },
        {
          "output_type": "display_data",
          "data": {
            "text/plain": [
              "<Figure size 640x480 with 1 Axes>"
            ],
            "image/png": "[encoded data removed]"
          },
          "metadata": {}
        }
      ]
    },
    {
      "cell_type": "code",
      "source": [
        "y2dc = lr.decision_function(X2) # dados de teste. classificador original (limiar original). valores continuos\n",
        "\n",
        "print(confusion_matrix(y2,y2dc>0)) # > 0 - limiar de corte para a classificação\n",
        "print(classification_report(y2,y2dc>0))\n",
        "\n",
        "pr, rc, t = precision_recall_curve(y2,y2dc) # roc_curve tem de levar o valor discreto, e depois um valor continuo da previsão. fp = false positive, tp = true positive\n",
        "\n",
        "plt.plot(rc,pr)\n",
        "plt.plot(70/71, 70/76,'or',alpha=0.3)\n",
        "\n",
        "plt.axis([0,1,0,1])\n",
        "plt.axis('scaled')\n",
        "plt.grid(True)\n",
        "plt.show()"
      ],
      "metadata": {
        "colab": {
          "base_uri": "https://localhost:8080/",
          "height": 562
        },
        "collapsed": true,
        "id": "4cZvsomVa5oi",
        "outputId": "71f2c866-94f5-4890-ed0e-6ce448591a69"
      },
      "execution_count": null,
      "outputs": [
        {
          "output_type": "stream",
          "name": "stdout",
          "text": [
            "[[118   1]\n",
            " [ 10  61]]\n",
            "              precision    recall  f1-score   support\n",
            "\n",
            "           0       0.92      0.99      0.96       119\n",
            "           1       0.98      0.86      0.92        71\n",
            "\n",
            "    accuracy                           0.94       190\n",
            "   macro avg       0.95      0.93      0.94       190\n",
            "weighted avg       0.95      0.94      0.94       190\n",
            "\n"
          ]
        },
        {
          "output_type": "display_data",
          "data": {
            "text/plain": [
              "<Figure size 640x480 with 1 Axes>"
            ],
            "image/png": "[encoded data removed]"
          },
          "metadata": {}
        }
      ]
    },
    {
      "cell_type": "code",
      "source": [
        "from sklearn.ensemble import RandomForestClassifier # classificação -> numero inteiro, regressão -> numero contínuo\n",
        "\n",
        "rf = RandomForestClassifier(random_state=42).fit(X1,y1)  # treinar modelo"
      ],
      "metadata": {
        "id": "fR1Pmm-VbVjs"
      },
      "execution_count": null,
      "outputs": []
    },
    {
      "cell_type": "code",
      "source": [
        "y2eb = rf.predict(X2) # dados de teste, testar o classificador. valores discretos\n",
        "y2d = rf.predict_proba(X2) # dados de teste, testar mas continuo\n",
        "print(confusion_matrix(y2,y2eb))\n",
        "print(classification_report(y2,y2eb))"
      ],
      "metadata": {
        "colab": {
          "base_uri": "https://localhost:8080/"
        },
        "id": "5-t1IPbskCwC",
        "outputId": "ae9181bb-02a6-440a-8259-f07550d89d9d"
      },
      "execution_count": null,
      "outputs": [
        {
          "output_type": "stream",
          "name": "stdout",
          "text": [
            "[[119   0]\n",
            " [  8  63]]\n",
            "              precision    recall  f1-score   support\n",
            "\n",
            "           0       0.94      1.00      0.97       119\n",
            "           1       1.00      0.89      0.94        71\n",
            "\n",
            "    accuracy                           0.96       190\n",
            "   macro avg       0.97      0.94      0.95       190\n",
            "weighted avg       0.96      0.96      0.96       190\n",
            "\n"
          ]
        }
      ]
    },
    {
      "cell_type": "code",
      "source": [
        "p=y2d[:,1] # probabilidades\n",
        "p[:10]\n",
        "threshold = 0.34\n",
        "print(confusion_matrix(y2,p>threshold)) # threshold de decisão, 0.5\n",
        "print(classification_report(y2,p>threshold))\n",
        "\n",
        "fp2, tp2 ,t = roc_curve(y2,p) # roc_curve tem de levar o valor discreto, e depois um valor continuo da previsão. fp = false positive, tp = true positive\n",
        "\n",
        "plt.plot(fp2,tp2)\n",
        "plt.plot(0, 65 / 71,'or',alpha=0.3)\n",
        "\n",
        "plt.axis([0,1,0,1])\n",
        "plt.axis('scaled')\n",
        "plt.grid(True)\n",
        "plt.show()\n"
      ],
      "metadata": {
        "colab": {
          "base_uri": "https://localhost:8080/",
          "height": 621
        },
        "id": "316o8nVklWRi",
        "outputId": "213ce2d9-1503-4fc9-a519-76e48617b765"
      },
      "execution_count": null,
      "outputs": [
        {
          "output_type": "stream",
          "name": "stdout",
          "text": [
            "[[117   2]\n",
            " [  4  67]]\n",
            "              precision    recall  f1-score   support\n",
            "\n",
            "           0       0.97      0.98      0.97       119\n",
            "           1       0.97      0.94      0.96        71\n",
            "\n",
            "    accuracy                           0.97       190\n",
            "   macro avg       0.97      0.96      0.97       190\n",
            "weighted avg       0.97      0.97      0.97       190\n",
            "\n"
          ]
        },
        {
          "output_type": "display_data",
          "data": {
            "text/plain": [
              "<Figure size 640x480 with 1 Axes>"
            ],
            "image/png": "[encoded data removed]"
          },
          "metadata": {}
        }
      ]
    },
    {
      "cell_type": "code",
      "source": [
        "# comparar curvas roc\n",
        "\n",
        "plt.plot(fp,tp, 'b') # discriminante logistico (logistic regression)\n",
        "plt.plot(fp2,tp2, 'r') # random forest\n",
        "\n",
        "plt.axis([0,1,0,1])\n",
        "plt.axis('scaled')\n",
        "plt.grid(True)\n",
        "plt.show()\n",
        "\n",
        "plt.show()"
      ],
      "metadata": {
        "colab": {
          "base_uri": "https://localhost:8080/",
          "height": 430
        },
        "id": "SiIy_GpumRV2",
        "outputId": "003e55ea-7b5f-44b8-989e-07bf2e825f6e"
      },
      "execution_count": null,
      "outputs": [
        {
          "output_type": "display_data",
          "data": {
            "text/plain": [
              "<Figure size 640x480 with 1 Axes>"
            ],
            "image/png": "[encoded data removed]"
          },
          "metadata": {}
        }
      ]
    },
    {
      "cell_type": "markdown",
      "source": [],
      "metadata": {
        "id": "15qCTOwOQEIX"
      }
    }
  ]
}