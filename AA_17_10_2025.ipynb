{
  "nbformat": 4,
  "nbformat_minor": 0,
  "metadata": {
    "colab": {
      "provenance": [],
      "authorship_tag": "ABX9TyMYyW3mqhh9IZHS82QFxBWn",
      "include_colab_link": true
    },
    "kernelspec": {
      "name": "python3",
      "display_name": "Python 3"
    },
    "language_info": {
      "name": "python"
    }
  },
  "cells": [
    {
      "cell_type": "markdown",
      "metadata": {
        "id": "view-in-github",
        "colab_type": "text"
      },
      "source": [
        "<a href=\"https://colab.research.google.com/github/alicescfernandes/AA_jupyter/blob/master/AA_17_10_2025.ipynb\" target=\"_parent\"><img src=\"https://colab.research.google.com/assets/colab-badge.svg\" alt=\"Open In Colab\"/></a>"
      ]
    },
    {
      "cell_type": "code",
      "execution_count": null,
      "metadata": {
        "colab": {
          "base_uri": "https://localhost:8080/",
          "height": 465
        },
        "id": "aqouzhy1MOP5",
        "outputId": "b0a9deee-299b-4af0-d4ad-4551d1eb95f1"
      },
      "outputs": [
        {
          "output_type": "stream",
          "name": "stdout",
          "text": [
            "['class_0' 'class_1' 'class_2']\n",
            "[0 1 2]\n"
          ]
        },
        {
          "output_type": "display_data",
          "data": {
            "text/plain": [
              "<Figure size 640x480 with 1 Axes>"
            ],
            "image/png": "[encoded data removed]"
          },
          "metadata": {}
        }
      ],
      "source": [
        "# Lab date: 17/10/2025\n",
        "import numpy as np\n",
        "import matplotlib.pyplot as plt\n",
        "import sklearn.datasets as dt\n",
        "import numpy.random as rd\n",
        "from sklearn.model_selection import train_test_split\n",
        "from sklearn.metrics import confusion_matrix\n",
        "from sklearn.linear_model import LogisticRegression\n",
        "from sklearn.model_selection import cross_val_score\n",
        "\n",
        "D = dt.load_wine() # carregar o dataset. retorna de um dicionário\n",
        "print(D.target_names) # classes do dataset\n",
        "# print(D.data) # dados\n",
        "\n",
        "X = D.data # 150 linhas, 4 parametros por linha de dados. Linhas = N; Colunas = d\n",
        "y = D.target # labels de classificação real - classificação real (array 1d com as classes reais)\n",
        "\n",
        "print(np.unique(y))\n",
        "\n",
        "plt.plot(y)\n",
        "plt.show()\n"
      ]
    },
    {
      "cell_type": "code",
      "source": [
        "\n",
        "# dividir em 2\n",
        "X1, X2, y1, y2 = train_test_split(X,y,test_size=1/3, random_state=42) # documentacao diz que faz o split de forma aleatoria\n",
        "# random_state = 42 para garantir que o split seja sempre o mesmo\n",
        "print(X1.shape)\n",
        "print(X2.shape)\n"
      ],
      "metadata": {
        "colab": {
          "base_uri": "https://localhost:8080/"
        },
        "id": "3D8grFWtORm0",
        "outputId": "10f945b4-67db-48cd-e91a-b90c4f804c25"
      },
      "execution_count": null,
      "outputs": [
        {
          "output_type": "stream",
          "name": "stdout",
          "text": [
            "(118, 13)\n",
            "(60, 13)\n"
          ]
        }
      ]
    },
    {
      "cell_type": "code",
      "source": [
        "\n",
        "# treinar um discriminante logistico (tipo de classificador)\n",
        "# estimar os parametros do modelo é um processo de otimização e iterativo (ou seja, nao é um processo exatos)\n",
        "lr = LogisticRegression(max_iter=10_000, random_state=42).fit(X1,y1) # treina o modelo, classificação binária com um classificador. Não é modelo de regressão.\n",
        "# random_state = 42 para garantir que o modelo seja sempre o mesmo\n",
        "\n",
        "# matriz de coeficientes: tipicamente inicializa-se com zeros + numeros aleatorios\n",
        "W = lr.coef_ # matriz de coeficientes de cada classe para cada parametro (d x c) d=numero de parametros, c=numero de classes\n",
        "# (linhas = classes, colunas = parametros)\n",
        "# print(W)\n",
        "\n",
        "print(\"numero de iteracoes para otimizar o modelo: \", lr.n_iter_) # numero de iteracoes para otimizar o modelo (maximo de iteracoes)\n",
        "\n",
        "score = lr.score(X2,y2) # avaliar o modelo usando os dados de teste\n",
        "print(\"score: \", score)\n"
      ],
      "metadata": {
        "colab": {
          "base_uri": "https://localhost:8080/"
        },
        "id": "8KMld1KCOTcv",
        "outputId": "4ad661d4-984d-444e-f66c-e94f19666553"
      },
      "execution_count": null,
      "outputs": [
        {
          "output_type": "stream",
          "name": "stdout",
          "text": [
            "numero de iteracoes para otimizar o modelo:  [3173]\n",
            "score:  1.0\n"
          ]
        }
      ]
    },
    {
      "cell_type": "code",
      "source": [
        "\n",
        "y2e = lr.predict(X2) # predizer as classes dos dados de teste.\n",
        "print(\"matriz de confusao:\\n\", confusion_matrix(y2,y2e)) # cria uma matriz de confusao para avaliar o modelo\n",
        "print(\"quantos dados foram classificados corretamente: \", np.sum(y2==y2e)) # quantos dados foram classificados corretamente\n",
        "print(\"quantos dados foram classificados incorretamente: \", np.sum(y2!=y2e)) # quantos dados foram classificados incorretamente\n",
        "\n"
      ],
      "metadata": {
        "id": "t2aHmYjdOVpe",
        "outputId": "c2746e3b-c798-414d-b3ac-a0d2e559ffdc",
        "colab": {
          "base_uri": "https://localhost:8080/"
        }
      },
      "execution_count": null,
      "outputs": [
        {
          "output_type": "stream",
          "name": "stdout",
          "text": [
            "matriz de confusao:\n",
            " [[21  0  0]\n",
            " [ 0 24  0]\n",
            " [ 0  0 15]]\n",
            "quantos dados foram classificados corretamente:  60\n",
            "quantos dados foram classificados incorretamente:  0\n"
          ]
        }
      ]
    },
    {
      "cell_type": "code",
      "source": [
        "# shuffle split: divide o dataset em 2 partes, e shuffle as partes, e treina o modelo com uma parte e testa com a outra\n",
        "for i in range(10):\n",
        "    print(\"\\niteracao: \", i)\n",
        "    X1, X2, y1, y2 = train_test_split(X,y,test_size=1/3)\n",
        "    lr = LogisticRegression(max_iter=10_000).fit(X1,y1)\n",
        "    y2e = lr.predict(X2)\n",
        "    print(\"matriz de confusao:\\n\", confusion_matrix(y2,y2e))\n",
        "    print(\"numero  total de erros: \", np.sum(y2!=y2e))\n",
        "    print(\"numero total de acertos: \", np.sum(y2==y2e))\n",
        "\n",
        "\n",
        "\n",
        "D = dt.load_digits()\n",
        "X = D.data\n",
        "y = D.target\n",
        "\n",
        "y[:10]\n",
        "x = X[0, :].reshape(8,8)\n",
        "plt.imshow(x, cmap='gray')\n",
        "plt.show()\n",
        "\n",
        "lr = LogisticRegression(max_iter=10_000).fit(X,y)\n",
        "print(lr.coef_)"
      ],
      "metadata": {
        "id": "9jWw_EMwOXwG",
        "outputId": "4b10368c-6c99-4a0a-bf83-27ef03a40985",
        "colab": {
          "base_uri": "https://localhost:8080/",
          "height": 1000
        }
      },
      "execution_count": null,
      "outputs": [
        {
          "output_type": "stream",
          "name": "stdout",
          "text": [
            "\n",
            "iteracao:  0\n",
            "matriz de confusao:\n",
            " [[17  0  0]\n",
            " [ 0 23  1]\n",
            " [ 0  1 18]]\n",
            "numero  total de erros:  2\n",
            "numero total de acertos:  58\n",
            "\n",
            "iteracao:  1\n",
            "matriz de confusao:\n",
            " [[20  0  0]\n",
            " [ 1 22  1]\n",
            " [ 0  0 16]]\n",
            "numero  total de erros:  2\n",
            "numero total de acertos:  58\n",
            "\n",
            "iteracao:  2\n",
            "matriz de confusao:\n",
            " [[21  0  0]\n",
            " [ 1 26  1]\n",
            " [ 0  1 10]]\n",
            "numero  total de erros:  3\n",
            "numero total de acertos:  57\n",
            "\n",
            "iteracao:  3\n",
            "matriz de confusao:\n",
            " [[18  0  0]\n",
            " [ 2 22  0]\n",
            " [ 0  1 17]]\n",
            "numero  total de erros:  3\n",
            "numero total de acertos:  57\n",
            "\n",
            "iteracao:  4\n",
            "matriz de confusao:\n",
            " [[14  0  0]\n",
            " [ 1 26  0]\n",
            " [ 0  0 19]]\n",
            "numero  total de erros:  1\n",
            "numero total de acertos:  59\n",
            "\n",
            "iteracao:  5\n",
            "matriz de confusao:\n",
            " [[16  0  0]\n",
            " [ 3 23  1]\n",
            " [ 0  0 17]]\n",
            "numero  total de erros:  4\n",
            "numero total de acertos:  56\n",
            "\n",
            "iteracao:  6\n",
            "matriz de confusao:\n",
            " [[19  2  0]\n",
            " [ 1 22  1]\n",
            " [ 0  0 15]]\n",
            "numero  total de erros:  4\n",
            "numero total de acertos:  56\n",
            "\n",
            "iteracao:  7\n",
            "matriz de confusao:\n",
            " [[19  0  0]\n",
            " [ 0 28  1]\n",
            " [ 0  0 12]]\n",
            "numero  total de erros:  1\n",
            "numero total de acertos:  59\n",
            "\n",
            "iteracao:  8\n",
            "matriz de confusao:\n",
            " [[18  0  0]\n",
            " [ 2 20  0]\n",
            " [ 0  2 18]]\n",
            "numero  total de erros:  4\n",
            "numero total de acertos:  56\n",
            "\n",
            "iteracao:  9\n",
            "matriz de confusao:\n",
            " [[17  0  0]\n",
            " [ 0 24  0]\n",
            " [ 0  2 17]]\n",
            "numero  total de erros:  2\n",
            "numero total de acertos:  58\n"
          ]
        },
        {
          "output_type": "display_data",
          "data": {
            "text/plain": [
              "<Figure size 640x480 with 1 Axes>"
            ],
            "image/png": "[encoded data removed]"
          },
          "metadata": {}
        },
        {
          "output_type": "stream",
          "name": "stdout",
          "text": [
            "[[ 0.00000000e+00  5.01288597e-04 -3.49601748e-02  5.63874160e-02\n",
            "   3.94753315e-02 -5.95609048e-02 -1.29922353e-01 -1.70298763e-02\n",
            "  -5.61892770e-05 -4.45434549e-02 -1.70659586e-02  1.95362583e-01\n",
            "   3.87608413e-02  9.34636491e-02 -3.52885896e-02 -1.72312243e-02\n",
            "  -1.26128890e-03  2.93277163e-02  1.18519712e-01 -1.52276865e-02\n",
            "  -3.48496763e-01  1.63951287e-01  7.80550421e-02 -4.90131627e-03\n",
            "  -6.28265026e-04  1.41755175e-01  8.03194967e-02 -1.47037112e-01\n",
            "  -4.33753163e-01  8.61123704e-03  8.89417194e-02 -8.24244588e-05\n",
            "   0.00000000e+00  2.00391891e-01  7.25710981e-02 -1.68688129e-01\n",
            "  -4.20201384e-01  5.68336296e-02  6.65632031e-02  0.00000000e+00\n",
            "  -2.02983777e-04 -4.66796274e-02  2.73629237e-01 -1.40318245e-01\n",
            "  -1.34099567e-01  1.14966948e-01  4.14831205e-02 -2.33530738e-04\n",
            "  -5.71908750e-04 -1.11075772e-01  9.17731984e-02 -1.59157213e-02\n",
            "   1.73222327e-01  3.70728888e-02  3.38182552e-03 -7.37028756e-03\n",
            "  -5.08023227e-06 -7.17785225e-03 -7.92479470e-02  2.06906311e-01\n",
            "  -3.47689362e-02 -3.58062617e-02 -1.51120701e-02 -1.55876031e-02]\n",
            " [ 0.00000000e+00 -2.22618946e-03 -9.34094329e-02  1.97215047e-01\n",
            "  -7.61961471e-01  3.86853469e-01  7.09960656e-02 -8.10103984e-03\n",
            "  -5.69364945e-04 -4.10876816e-01 -3.90384161e-01 -4.19891090e-01\n",
            "   2.83548181e-01 -9.72029482e-02 -3.01195803e-01 -1.24926267e-02\n",
            "   9.45663208e-02  3.55075470e-01 -2.69528145e-02  7.00612985e-01\n",
            "   1.68509722e-01 -1.31733948e-01 -4.58909603e-02 -1.05438208e-03\n",
            "   1.37383076e-02 -1.08019467e-01 -1.77585435e-02  4.36102575e-02\n",
            "   2.34728680e-01  5.95908520e-02  1.44674514e-02 -2.46710238e-05\n",
            "   0.00000000e+00 -3.26474281e-02  1.70664933e-01 -1.92661159e-01\n",
            "   1.57508921e-01  1.82419022e-01 -1.86157142e-01  0.00000000e+00\n",
            "  -7.99824936e-05 -1.44013629e-01  5.20608384e-02  3.30069905e-01\n",
            "  -1.07450898e-02 -1.39270106e-01 -4.79042052e-01 -1.60427302e-03\n",
            "  -4.57747723e-04 -1.67797888e-01 -8.82705144e-02  1.22683620e-01\n",
            "   2.47019847e-01 -6.56450233e-02 -1.78741481e-01  2.16008662e-01\n",
            "  -1.34979468e-04  2.77783747e-02 -2.51992644e-01  4.11044051e-02\n",
            "   1.27698822e-01  1.10390601e-01  1.32620290e-01  2.22750419e-01]\n",
            " [ 0.00000000e+00  3.01748047e-02 -2.84801405e-02  6.27603671e-02\n",
            "   5.52369918e-02 -5.72907204e-02  4.22236588e-03 -1.31660450e-03\n",
            "  -2.45769970e-02  2.25920707e-01  3.83774605e-02 -1.88437975e-01\n",
            "   3.23666743e-01  1.33570761e-03  1.57106771e-02 -1.29383112e-03\n",
            "  -1.21392282e-02 -8.81914137e-02 -9.77047089e-02 -2.76110982e-01\n",
            "   2.72367849e-01 -5.10027174e-02  1.81289938e-01 -4.26477278e-04\n",
            "  -1.47994759e-05 -2.28519233e-01 -5.58083722e-01 -4.07608186e-01\n",
            "  -2.55827423e-01 -1.81324834e-02  5.48825629e-02 -1.88520712e-05\n",
            "   0.00000000e+00 -1.61839209e-01 -3.39121945e-01 -1.21016969e-01\n",
            "   3.42266387e-02 -2.04872493e-01 -3.02307039e-01  0.00000000e+00\n",
            "  -7.53959568e-05  1.00292781e-01  5.48110364e-02  4.21910173e-01\n",
            "  -4.09257044e-01 -3.15835663e-01 -1.18038200e-01  4.28211276e-03\n",
            "   9.94828777e-04  5.85486166e-02  7.03899364e-02  5.42259894e-01\n",
            "   3.40748109e-01  2.77056592e-01  1.59234499e-01  2.40960160e-02\n",
            "   3.47352584e-04  3.46169211e-02  2.21222309e-01  9.07575746e-02\n",
            "   5.28824924e-02  2.45131502e-01  4.17896785e-01  1.94256383e-01]\n",
            " [ 0.00000000e+00  1.57778891e-01 -1.83572278e-01  6.15315584e-02\n",
            "   4.99506881e-01  2.25220101e-02 -6.33562241e-03 -2.43248530e-04\n",
            "  -9.39654434e-03  1.15395361e-01  1.62631094e-01  7.83181839e-02\n",
            "   1.93800513e-01  2.58302159e-01  2.83562235e-01 -2.50924814e-02\n",
            "  -4.43931042e-03 -1.24487947e-01 -3.61001781e-01 -4.84187092e-01\n",
            "   8.21595589e-02 -2.59870761e-01  1.88898007e-02 -4.43147259e-04\n",
            "  -9.42953689e-06 -1.72593099e-01 -3.64030994e-01 -1.35050305e-01\n",
            "   2.98916710e-01 -4.15183028e-01 -4.07712285e-01 -1.88503281e-05\n",
            "   0.00000000e+00 -1.31945426e-01 -1.15275269e-01  5.60595938e-02\n",
            "   7.49260476e-02 -1.36211910e-01 -4.50898010e-03  0.00000000e+00\n",
            "  -7.53836932e-05 -1.08396499e-02 -3.48127766e-01 -4.90420739e-01\n",
            "   9.78890445e-02  2.06745992e-01  2.66739779e-01 -4.54334485e-03\n",
            "  -6.33322222e-05 -8.54382094e-02  3.39739825e-02 -2.17569712e-01\n",
            "   4.42198535e-02  2.87193700e-01  4.14211580e-01 -9.55673511e-02\n",
            "  -5.40048502e-06  9.79117781e-02  2.50131142e-01  1.10822119e-01\n",
            "  -6.70541356e-03 -3.48261058e-02  1.16499733e-01 -2.24642319e-01]\n",
            " [ 0.00000000e+00 -1.56678326e-02 -1.34626715e-01 -3.98890576e-01\n",
            "  -2.50057190e-01 -3.31535139e-01 -2.61535498e-01  6.30275663e-02\n",
            "  -8.32803254e-05  5.97361150e-02 -2.08664125e-01 -2.14353047e-01\n",
            "  -4.58406707e-01 -1.71003583e-01 -1.81256726e-01  6.42544408e-02\n",
            "  -2.56973499e-03  3.10617871e-01  2.20216384e-01  1.63106377e-01\n",
            "   1.41661807e-02  7.35313596e-02 -6.52006700e-02  4.13477993e-02\n",
            "   3.23767255e-02  2.60410929e-02  3.93983852e-01  1.61641471e-01\n",
            "   9.12654703e-02  1.02332793e-01  4.73039330e-01  1.04914306e-03\n",
            "   0.00000000e+00  1.42267789e-01  2.42674549e-01 -1.31432100e-01\n",
            "   3.30083951e-01  2.05437781e-01  4.29834974e-01  0.00000000e+00\n",
            "   9.47455396e-04  5.74524067e-01 -5.81724594e-03  6.52493412e-01\n",
            "   4.26592930e-01  1.31443521e-01  1.86212184e-01 -5.34914404e-04\n",
            "   1.30282254e-03  2.91136615e-01 -2.31928444e-01  6.30057450e-02\n",
            "   1.31121944e-02 -2.99149890e-01 -2.71552229e-01 -6.89868537e-03\n",
            "  -6.01450820e-06 -9.39619078e-02 -9.08258583e-02 -2.87047072e-01\n",
            "  -1.78302853e-01 -1.76217661e-01 -5.32281832e-02 -3.84159000e-03]\n",
            " [ 0.00000000e+00  8.01181528e-02  5.46809836e-01 -1.43254237e-01\n",
            "   8.58706584e-02  4.00281329e-01  3.65373108e-01 -2.58510299e-02\n",
            "  -4.43426330e-05 -7.66337603e-02  1.84083732e-01  2.38995995e-01\n",
            "  -4.09205786e-02 -1.11131054e-01 -7.42343682e-02  1.45794281e-02\n",
            "  -8.41564173e-04 -3.49316458e-02  9.21662295e-02  8.50734013e-02\n",
            "  -5.25222072e-01 -3.71884915e-01 -5.33962380e-01 -3.37027375e-03\n",
            "  -4.08797341e-04  1.14360266e-01  3.25874138e-01 -6.75873978e-02\n",
            "   2.87022201e-01 -1.30937543e-01 -3.30367080e-01 -2.15976166e-05\n",
            "   0.00000000e+00 -3.02903291e-04  4.32595741e-02 -2.44468837e-01\n",
            "  -2.72423225e-01 -4.92185567e-02  2.96903054e-01  0.00000000e+00\n",
            "  -7.54725596e-05 -2.93784542e-01 -2.10382920e-01 -2.99609051e-01\n",
            "  -2.83963927e-03  1.81861454e-01  1.66354396e-02 -2.52598280e-04\n",
            "  -6.17849083e-05 -1.15636686e-01 -1.34787361e-01 -1.45550279e-01\n",
            "  -7.99579011e-02  1.19251542e-03 -3.17242019e-01 -2.74035796e-03\n",
            "  -4.83587127e-06  6.40951397e-02  4.34673329e-01  2.51637373e-01\n",
            "  -3.67349059e-02  1.37855837e-01 -4.11482776e-01 -7.99349123e-03]\n",
            " [ 0.00000000e+00 -5.22985923e-03 -1.94579868e-01 -7.51744103e-02\n",
            "  -9.33442564e-02 -2.20617503e-01 -8.13982781e-02 -1.10942170e-03\n",
            "  -4.66604851e-04 -1.30707957e-01 -1.92750867e-01 -2.61011304e-02\n",
            "  -3.51111978e-01  2.96756926e-02  2.77300387e-02 -1.02236410e-03\n",
            "  -7.51540418e-03 -5.85857073e-02  1.43837204e-01 -1.34135049e-02\n",
            "  -2.64974016e-01 -3.87775583e-01 -1.01769076e-01 -5.56642378e-04\n",
            "  -3.65207531e-03  1.92647791e-01  8.14216164e-02  1.95436402e-01\n",
            "  -1.12845932e-01  1.11491076e-02 -1.89666210e-01 -6.56271989e-05\n",
            "   0.00000000e+00  2.49866182e-01  1.48500761e-01  2.60017326e-01\n",
            "  -4.99881764e-03 -8.44183886e-02  1.67858332e-01  0.00000000e+00\n",
            "  -2.10914681e-04 -1.31884451e-01  5.14264087e-01  1.67978945e-01\n",
            "   2.13400098e-01  5.53627697e-02  2.35493486e-01  4.32445147e-03\n",
            "  -4.34566082e-04 -1.07015316e-01  1.88336431e-01 -2.61206241e-02\n",
            "  -6.88790693e-02  2.82221168e-01  1.19849079e-01 -1.36516540e-01\n",
            "  -4.84229501e-06 -6.40192016e-03 -1.67876795e-01 -1.43747988e-01\n",
            "   3.27110581e-02  9.29341888e-02 -2.63315206e-02 -9.61702382e-02]\n",
            " [ 0.00000000e+00  2.95784598e-02  1.05239608e-01  1.03030604e-01\n",
            "   1.25880487e-01  9.35363130e-02  2.29075774e-01  7.65706246e-02\n",
            "  -4.76193772e-05  1.12127046e-01  2.42547980e-01  1.34736696e-01\n",
            "   4.61001724e-01 -1.61675297e-01 -5.14455933e-02  4.09903795e-02\n",
            "  -2.39892239e-05 -3.18957958e-01 -3.23642193e-01 -1.28750674e-01\n",
            "   1.34075446e-01  2.21100682e-01  1.88139311e-01  6.17000620e-03\n",
            "  -1.02864217e-05 -1.60535932e-01  5.53841987e-03 -3.54812058e-01\n",
            "   5.78339353e-02  1.85791091e-01  2.87348269e-01 -4.76685472e-04\n",
            "   0.00000000e+00  1.94620155e-01  2.06115439e-02 -6.10177329e-02\n",
            "   1.39875132e-01  2.49149228e-01  2.68814958e-01  0.00000000e+00\n",
            "  -7.54065590e-05 -1.34442520e-02 -5.54481928e-02  5.47407948e-02\n",
            "   1.41412728e-01 -6.75590387e-02  1.83734694e-02 -2.31792732e-04\n",
            "  -7.08123912e-05 -5.64555500e-02 -3.59329310e-02  1.65405114e-01\n",
            "  -2.16511853e-01 -4.43539546e-01 -1.12527834e-01 -1.78246010e-03\n",
            "  -7.70589175e-06  1.50157059e-02  2.69237974e-02 -3.04514591e-01\n",
            "  -2.30395259e-01 -3.38611176e-01 -9.77600735e-02 -3.90128714e-03]\n",
            " [ 0.00000000e+00 -8.40019002e-02  1.29998032e-01 -1.78914189e-01\n",
            "   1.27639573e-01 -1.10333441e-01 -2.76621692e-01 -1.13052733e-02\n",
            "   3.53359126e-02 -3.03693914e-02  1.44606250e-02  9.74502199e-02\n",
            "  -3.03324454e-01  1.65526045e-01  1.06840711e-01 -3.46488223e-03\n",
            "  -6.53197563e-02 -1.63183073e-02  2.14158933e-01 -9.16308067e-02\n",
            "   1.88323629e-01  2.08949772e-01  1.80107145e-01 -1.37024034e-03\n",
            "  -4.11711645e-02  7.86286123e-02 -1.79568498e-01  3.81538659e-01\n",
            "  -1.63709676e-01 -3.82091124e-02 -1.29293501e-02 -3.72604358e-05\n",
            "   0.00000000e+00 -8.03463231e-03 -5.54963230e-02  3.68342342e-01\n",
            "   5.98298074e-02 -2.08732819e-01 -6.54427760e-01  0.00000000e+00\n",
            "  -7.65193610e-05  8.62531945e-03  1.69588156e-01  8.48255380e-02\n",
            "   1.86415315e-01  2.53221529e-02  2.32830718e-01 -1.22481712e-03\n",
            "  -5.75085748e-04  1.04246818e-01  1.96030743e-01 -2.90276581e-01\n",
            "  -2.83389987e-01  1.38146386e-01  2.25253446e-01 -2.20754980e-02\n",
            "  -1.73417416e-04  1.58493079e-02 -3.57992812e-01 -4.68415605e-02\n",
            "   2.54521518e-01 -1.08556336e-01 -1.09081874e-01 -6.11470925e-02]\n",
            " [ 0.00000000e+00 -1.91025815e-01 -1.12418867e-01  3.15308419e-01\n",
            "   1.71752995e-01 -1.23855413e-01  8.61461299e-02 -7.46416968e-02\n",
            "  -9.49698846e-05  1.79952150e-01  1.66764220e-01  1.03919565e-01\n",
            "  -1.47014286e-01 -7.29037106e-03  2.09577418e-01 -5.92268385e-02\n",
            "  -4.56044485e-04 -5.35480784e-02  2.04030350e-02  6.05279832e-02\n",
            "   2.79090466e-01  5.34734824e-01  1.00341850e-01 -3.53953262e-02\n",
            "  -2.20215538e-04  1.16234793e-01  2.32304233e-01  3.29868268e-01\n",
            "  -3.63080220e-03  2.34987087e-01  2.19955918e-02 -3.03174451e-04\n",
            "   0.00000000e+00 -4.52376418e-01 -1.88388923e-01  2.34865666e-01\n",
            "  -9.88270722e-02 -1.03854928e-02 -8.25735999e-02  0.00000000e+00\n",
            "  -7.53963150e-05 -4.27960167e-02 -4.44577231e-01 -7.81670732e-01\n",
            "  -5.08768775e-01 -1.93038030e-01 -4.00687945e-01  1.87069128e-05\n",
            "  -6.24134937e-05  1.89487372e-01 -8.95850408e-02 -1.97921455e-01\n",
            "  -1.69583520e-01 -2.14548792e-01 -4.18668666e-02  3.28465024e-02\n",
            "  -5.07641758e-06 -1.47725547e-01  1.49854786e-02  8.09234270e-02\n",
            "   1.90934772e-02  1.07705411e-01  4.59796898e-02 -3.72318103e-03]]\n"
          ]
        }
      ]
    }
  ]
}